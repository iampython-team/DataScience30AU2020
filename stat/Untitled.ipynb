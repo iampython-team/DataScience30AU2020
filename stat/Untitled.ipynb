{
 "cells": [
  {
   "cell_type": "markdown",
   "metadata": {},
   "source": [
    "# correlation coeffiecients \n",
    "\n",
    "Relationship between any two columns \n",
    "\n",
    "random variables x and y \n",
    "\n",
    "y=mx+c - m slope- coeffiecients  c constant- error \n",
    "\n",
    "\n",
    "r= -1 and 1 \n",
    "correlation test - association two variables \n",
    "\n",
    "\n",
    "Types  \n",
    "parametric \n",
    "  pearson's \n",
    "non parametric \n",
    "  Kendall \n",
    "  Spearman "
   ]
  }
 ],
 "metadata": {
  "kernelspec": {
   "display_name": "Python 3",
   "language": "python",
   "name": "python3"
  },
  "language_info": {
   "codemirror_mode": {
    "name": "ipython",
    "version": 3
   },
   "file_extension": ".py",
   "mimetype": "text/x-python",
   "name": "python",
   "nbconvert_exporter": "python",
   "pygments_lexer": "ipython3",
   "version": "3.7.3"
  }
 },
 "nbformat": 4,
 "nbformat_minor": 2
}
