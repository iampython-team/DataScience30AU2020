{
 "cells": [
  {
   "cell_type": "markdown",
   "metadata": {},
   "source": [
    "# IPL Analysis \n"
   ]
  },
  {
   "cell_type": "markdown",
   "metadata": {},
   "source": [
    "# Import packages "
   ]
  },
  {
   "cell_type": "code",
   "execution_count": 1,
   "metadata": {},
   "outputs": [],
   "source": [
    "\n",
    "import numpy as np \n",
    "import pandas as pd \n",
    "from matplotlib import pyplot as plt \n",
    "import seaborn as sns"
   ]
  },
  {
   "cell_type": "code",
   "execution_count": 2,
   "metadata": {},
   "outputs": [],
   "source": [
    "#pd.options.display.max_rows\n",
    "pd.set_option('display.max_rows',None)"
   ]
  },
  {
   "cell_type": "markdown",
   "metadata": {},
   "source": [
    "# load the dataset \n"
   ]
  },
  {
   "cell_type": "code",
   "execution_count": 3,
   "metadata": {},
   "outputs": [
    {
     "data": {
      "text/html": [
       "<div>\n",
       "<style scoped>\n",
       "    .dataframe tbody tr th:only-of-type {\n",
       "        vertical-align: middle;\n",
       "    }\n",
       "\n",
       "    .dataframe tbody tr th {\n",
       "        vertical-align: top;\n",
       "    }\n",
       "\n",
       "    .dataframe thead th {\n",
       "        text-align: right;\n",
       "    }\n",
       "</style>\n",
       "<table border=\"1\" class=\"dataframe\">\n",
       "  <thead>\n",
       "    <tr style=\"text-align: right;\">\n",
       "      <th></th>\n",
       "      <th>batsman</th>\n",
       "      <th>total_runs</th>\n",
       "      <th>out</th>\n",
       "      <th>numberofballs</th>\n",
       "      <th>average</th>\n",
       "      <th>strikerate</th>\n",
       "    </tr>\n",
       "  </thead>\n",
       "  <tbody>\n",
       "    <tr>\n",
       "      <th>0</th>\n",
       "      <td>V Kohli</td>\n",
       "      <td>5426</td>\n",
       "      <td>152</td>\n",
       "      <td>4111</td>\n",
       "      <td>35.697368</td>\n",
       "      <td>131.987351</td>\n",
       "    </tr>\n",
       "    <tr>\n",
       "      <th>1</th>\n",
       "      <td>SK Raina</td>\n",
       "      <td>5386</td>\n",
       "      <td>160</td>\n",
       "      <td>3916</td>\n",
       "      <td>33.662500</td>\n",
       "      <td>137.538304</td>\n",
       "    </tr>\n",
       "    <tr>\n",
       "      <th>2</th>\n",
       "      <td>RG Sharma</td>\n",
       "      <td>4902</td>\n",
       "      <td>161</td>\n",
       "      <td>3742</td>\n",
       "      <td>30.447205</td>\n",
       "      <td>130.999466</td>\n",
       "    </tr>\n",
       "    <tr>\n",
       "      <th>3</th>\n",
       "      <td>DA Warner</td>\n",
       "      <td>4717</td>\n",
       "      <td>114</td>\n",
       "      <td>3292</td>\n",
       "      <td>41.377193</td>\n",
       "      <td>143.286756</td>\n",
       "    </tr>\n",
       "    <tr>\n",
       "      <th>4</th>\n",
       "      <td>S Dhawan</td>\n",
       "      <td>4601</td>\n",
       "      <td>137</td>\n",
       "      <td>3665</td>\n",
       "      <td>33.583942</td>\n",
       "      <td>125.538881</td>\n",
       "    </tr>\n",
       "  </tbody>\n",
       "</table>\n",
       "</div>"
      ],
      "text/plain": [
       "     batsman  total_runs  out  numberofballs    average  strikerate\n",
       "0    V Kohli        5426  152           4111  35.697368  131.987351\n",
       "1   SK Raina        5386  160           3916  33.662500  137.538304\n",
       "2  RG Sharma        4902  161           3742  30.447205  130.999466\n",
       "3  DA Warner        4717  114           3292  41.377193  143.286756\n",
       "4   S Dhawan        4601  137           3665  33.583942  125.538881"
      ]
     },
     "execution_count": 3,
     "metadata": {},
     "output_type": "execute_result"
    }
   ],
   "source": [
    "#pwd\n",
    "ipl_data=pd.read_csv(\"IPL_most_runs_average_strikerate_dataset.csv\")\n",
    "ipl_data.head(5)"
   ]
  },
  {
   "cell_type": "markdown",
   "metadata": {},
   "source": [
    "# Data Preprocessing "
   ]
  },
  {
   "cell_type": "code",
   "execution_count": 4,
   "metadata": {},
   "outputs": [
    {
     "data": {
      "text/plain": [
       "Index(['batsman', 'total_runs', 'out', 'numberofballs', 'average',\n",
       "       'strikerate'],\n",
       "      dtype='object')"
      ]
     },
     "execution_count": 4,
     "metadata": {},
     "output_type": "execute_result"
    }
   ],
   "source": [
    "# columns \n",
    "ipl_data.columns"
   ]
  },
  {
   "cell_type": "code",
   "execution_count": 5,
   "metadata": {
    "scrolled": true
   },
   "outputs": [
    {
     "name": "stdout",
     "output_type": "stream",
     "text": [
      "<class 'pandas.core.frame.DataFrame'>\n",
      "RangeIndex: 516 entries, 0 to 515\n",
      "Data columns (total 6 columns):\n",
      "batsman          516 non-null object\n",
      "total_runs       516 non-null int64\n",
      "out              516 non-null int64\n",
      "numberofballs    516 non-null int64\n",
      "average          482 non-null float64\n",
      "strikerate       516 non-null float64\n",
      "dtypes: float64(2), int64(3), object(1)\n",
      "memory usage: 24.3+ KB\n"
     ]
    }
   ],
   "source": [
    "# info \n",
    "ipl_data.info()"
   ]
  },
  {
   "cell_type": "code",
   "execution_count": 6,
   "metadata": {},
   "outputs": [
    {
     "data": {
      "text/plain": [
       "batsman           object\n",
       "total_runs         int64\n",
       "out                int64\n",
       "numberofballs      int64\n",
       "average          float64\n",
       "strikerate       float64\n",
       "dtype: object"
      ]
     },
     "execution_count": 6,
     "metadata": {},
     "output_type": "execute_result"
    }
   ],
   "source": [
    "# datatypes\n",
    "ipl_data.dtypes"
   ]
  },
  {
   "cell_type": "code",
   "execution_count": 7,
   "metadata": {},
   "outputs": [
    {
     "data": {
      "text/html": [
       "<div>\n",
       "<style scoped>\n",
       "    .dataframe tbody tr th:only-of-type {\n",
       "        vertical-align: middle;\n",
       "    }\n",
       "\n",
       "    .dataframe tbody tr th {\n",
       "        vertical-align: top;\n",
       "    }\n",
       "\n",
       "    .dataframe thead th {\n",
       "        text-align: right;\n",
       "    }\n",
       "</style>\n",
       "<table border=\"1\" class=\"dataframe\">\n",
       "  <thead>\n",
       "    <tr style=\"text-align: right;\">\n",
       "      <th></th>\n",
       "      <th>total_runs</th>\n",
       "      <th>out</th>\n",
       "      <th>numberofballs</th>\n",
       "      <th>average</th>\n",
       "      <th>strikerate</th>\n",
       "    </tr>\n",
       "  </thead>\n",
       "  <tbody>\n",
       "    <tr>\n",
       "      <th>count</th>\n",
       "      <td>516.000000</td>\n",
       "      <td>516.000000</td>\n",
       "      <td>516.000000</td>\n",
       "      <td>482.000000</td>\n",
       "      <td>516.000000</td>\n",
       "    </tr>\n",
       "    <tr>\n",
       "      <th>mean</th>\n",
       "      <td>430.625969</td>\n",
       "      <td>17.063953</td>\n",
       "      <td>335.645349</td>\n",
       "      <td>16.355074</td>\n",
       "      <td>105.433442</td>\n",
       "    </tr>\n",
       "    <tr>\n",
       "      <th>std</th>\n",
       "      <td>882.275431</td>\n",
       "      <td>28.124511</td>\n",
       "      <td>663.593679</td>\n",
       "      <td>11.146222</td>\n",
       "      <td>39.633938</td>\n",
       "    </tr>\n",
       "    <tr>\n",
       "      <th>min</th>\n",
       "      <td>0.000000</td>\n",
       "      <td>0.000000</td>\n",
       "      <td>1.000000</td>\n",
       "      <td>0.000000</td>\n",
       "      <td>0.000000</td>\n",
       "    </tr>\n",
       "    <tr>\n",
       "      <th>25%</th>\n",
       "      <td>15.000000</td>\n",
       "      <td>2.000000</td>\n",
       "      <td>17.000000</td>\n",
       "      <td>8.000000</td>\n",
       "      <td>84.362069</td>\n",
       "    </tr>\n",
       "    <tr>\n",
       "      <th>50%</th>\n",
       "      <td>74.000000</td>\n",
       "      <td>5.500000</td>\n",
       "      <td>68.000000</td>\n",
       "      <td>14.607143</td>\n",
       "      <td>111.651584</td>\n",
       "    </tr>\n",
       "    <tr>\n",
       "      <th>75%</th>\n",
       "      <td>340.500000</td>\n",
       "      <td>18.000000</td>\n",
       "      <td>290.000000</td>\n",
       "      <td>23.657609</td>\n",
       "      <td>130.499036</td>\n",
       "    </tr>\n",
       "    <tr>\n",
       "      <th>max</th>\n",
       "      <td>5426.000000</td>\n",
       "      <td>161.000000</td>\n",
       "      <td>4111.000000</td>\n",
       "      <td>88.000000</td>\n",
       "      <td>250.000000</td>\n",
       "    </tr>\n",
       "  </tbody>\n",
       "</table>\n",
       "</div>"
      ],
      "text/plain": [
       "        total_runs         out  numberofballs     average  strikerate\n",
       "count   516.000000  516.000000     516.000000  482.000000  516.000000\n",
       "mean    430.625969   17.063953     335.645349   16.355074  105.433442\n",
       "std     882.275431   28.124511     663.593679   11.146222   39.633938\n",
       "min       0.000000    0.000000       1.000000    0.000000    0.000000\n",
       "25%      15.000000    2.000000      17.000000    8.000000   84.362069\n",
       "50%      74.000000    5.500000      68.000000   14.607143  111.651584\n",
       "75%     340.500000   18.000000     290.000000   23.657609  130.499036\n",
       "max    5426.000000  161.000000    4111.000000   88.000000  250.000000"
      ]
     },
     "execution_count": 7,
     "metadata": {},
     "output_type": "execute_result"
    }
   ],
   "source": [
    "# describe -stats \n",
    "ipl_data.describe()"
   ]
  },
  {
   "cell_type": "code",
   "execution_count": 8,
   "metadata": {},
   "outputs": [
    {
     "data": {
      "text/plain": [
       "batsman           0\n",
       "total_runs        0\n",
       "out               0\n",
       "numberofballs     0\n",
       "average          34\n",
       "strikerate        0\n",
       "dtype: int64"
      ]
     },
     "execution_count": 8,
     "metadata": {},
     "output_type": "execute_result"
    }
   ],
   "source": [
    "# null data\n",
    "ipl_data.isnull().sum()"
   ]
  },
  {
   "cell_type": "code",
   "execution_count": 9,
   "metadata": {},
   "outputs": [
    {
     "data": {
      "text/html": [
       "<div>\n",
       "<style scoped>\n",
       "    .dataframe tbody tr th:only-of-type {\n",
       "        vertical-align: middle;\n",
       "    }\n",
       "\n",
       "    .dataframe tbody tr th {\n",
       "        vertical-align: top;\n",
       "    }\n",
       "\n",
       "    .dataframe thead th {\n",
       "        text-align: right;\n",
       "    }\n",
       "</style>\n",
       "<table border=\"1\" class=\"dataframe\">\n",
       "  <thead>\n",
       "    <tr style=\"text-align: right;\">\n",
       "      <th></th>\n",
       "      <th>batsman</th>\n",
       "      <th>average</th>\n",
       "    </tr>\n",
       "  </thead>\n",
       "  <tbody>\n",
       "    <tr>\n",
       "      <th>0</th>\n",
       "      <td>V Kohli</td>\n",
       "      <td>35.697368</td>\n",
       "    </tr>\n",
       "    <tr>\n",
       "      <th>1</th>\n",
       "      <td>SK Raina</td>\n",
       "      <td>33.662500</td>\n",
       "    </tr>\n",
       "    <tr>\n",
       "      <th>2</th>\n",
       "      <td>RG Sharma</td>\n",
       "      <td>30.447205</td>\n",
       "    </tr>\n",
       "    <tr>\n",
       "      <th>3</th>\n",
       "      <td>DA Warner</td>\n",
       "      <td>41.377193</td>\n",
       "    </tr>\n",
       "    <tr>\n",
       "      <th>4</th>\n",
       "      <td>S Dhawan</td>\n",
       "      <td>33.583942</td>\n",
       "    </tr>\n",
       "  </tbody>\n",
       "</table>\n",
       "</div>"
      ],
      "text/plain": [
       "     batsman    average\n",
       "0    V Kohli  35.697368\n",
       "1   SK Raina  33.662500\n",
       "2  RG Sharma  30.447205\n",
       "3  DA Warner  41.377193\n",
       "4   S Dhawan  33.583942"
      ]
     },
     "execution_count": 9,
     "metadata": {},
     "output_type": "execute_result"
    }
   ],
   "source": [
    "ipl_data[['batsman','average']].head(5)"
   ]
  },
  {
   "cell_type": "markdown",
   "metadata": {},
   "source": [
    "# Data Visualization (analysis)   "
   ]
  },
  {
   "cell_type": "code",
   "execution_count": 10,
   "metadata": {},
   "outputs": [
    {
     "data": {
      "text/plain": [
       "<matplotlib.axes._subplots.AxesSubplot at 0x7fcb0caed2b0>"
      ]
     },
     "execution_count": 10,
     "metadata": {},
     "output_type": "execute_result"
    },
    {
     "data": {
      "image/png": "[encoded data removed]",
      "text/plain": [
       "<Figure size 432x288 with 1 Axes>"
      ]
     },
     "metadata": {
      "needs_background": "light"
     },
     "output_type": "display_data"
    }
   ],
   "source": [
    "\n",
    "firstfive=ipl_data[['batsman','average']].head(5)\n",
    "sns.barplot(x='batsman',y='average',data=firstfive)"
   ]
  },
  {
   "cell_type": "code",
   "execution_count": null,
   "metadata": {},
   "outputs": [],
   "source": []
  },
  {
   "cell_type": "code",
   "execution_count": 11,
   "metadata": {},
   "outputs": [
    {
     "data": {
      "text/plain": [
       "0"
      ]
     },
     "execution_count": 11,
     "metadata": {},
     "output_type": "execute_result"
    },
    {
     "data": {
      "image/png": "[encoded data removed]",
      "text/plain": [
       "<Figure size 432x288 with 1 Axes>"
      ]
     },
     "metadata": {
      "needs_background": "light"
     },
     "output_type": "display_data"
    }
   ],
   "source": [
    "\n",
    "pattern=sns.color_palette(\"husl\", 9)\n",
    "ipl_data['strikerate'].isnull().count()\n",
    "# 516 - rows - not null \n",
    "ipl_data['strikerate'].isnull().sum()\n",
    "\n",
    "sns.boxplot(x='batsman',y='average',data=firstfive,orient='v',palette=pattern)\n",
    "\n",
    "\n",
    "# ipl_data['strikerate'].isnull().sum()\n",
    "ipl_data['average'].isnull().sum()\n",
    "\n",
    "ipl_data['average'].dtypes\n",
    "\n",
    "ipl_data['batsman'].isnull().sum()\n",
    "\n",
    "\n",
    "# b- 0 av=34 and sr=0 boxplot    x -0 y-0 = error \n",
    "#                                x-0  y-34 = able to see graph "
   ]
  },
  {
   "cell_type": "code",
   "execution_count": 12,
   "metadata": {},
   "outputs": [
    {
     "data": {
      "text/html": [
       "<div>\n",
       "<style scoped>\n",
       "    .dataframe tbody tr th:only-of-type {\n",
       "        vertical-align: middle;\n",
       "    }\n",
       "\n",
       "    .dataframe tbody tr th {\n",
       "        vertical-align: top;\n",
       "    }\n",
       "\n",
       "    .dataframe thead th {\n",
       "        text-align: right;\n",
       "    }\n",
       "</style>\n",
       "<table border=\"1\" class=\"dataframe\">\n",
       "  <thead>\n",
       "    <tr style=\"text-align: right;\">\n",
       "      <th></th>\n",
       "      <th>age</th>\n",
       "      <th>income</th>\n",
       "      <th>location</th>\n",
       "      <th>name</th>\n",
       "    </tr>\n",
       "  </thead>\n",
       "  <tbody>\n",
       "    <tr>\n",
       "      <th>0</th>\n",
       "      <td>45</td>\n",
       "      <td>400.5</td>\n",
       "      <td>None</td>\n",
       "      <td>john</td>\n",
       "    </tr>\n",
       "    <tr>\n",
       "      <th>1</th>\n",
       "      <td>43</td>\n",
       "      <td>NaN</td>\n",
       "      <td>NY</td>\n",
       "      <td>robert</td>\n",
       "    </tr>\n",
       "    <tr>\n",
       "      <th>2</th>\n",
       "      <td>52</td>\n",
       "      <td>629.5</td>\n",
       "      <td>TX</td>\n",
       "      <td>obama</td>\n",
       "    </tr>\n",
       "  </tbody>\n",
       "</table>\n",
       "</div>"
      ],
      "text/plain": [
       "   age  income location    name\n",
       "0   45   400.5     None    john\n",
       "1   43     NaN       NY  robert\n",
       "2   52   629.5       TX   obama"
      ]
     },
     "execution_count": 12,
     "metadata": {},
     "output_type": "execute_result"
    }
   ],
   "source": [
    "person=pd.DataFrame(\n",
    "    [{\n",
    "    'name':'john',\n",
    "    'age':45,\n",
    "    'location':None,\n",
    "    'income':400.50\n",
    "},\n",
    "    \n",
    "{\n",
    "    'name':'robert',\n",
    "    'age':43,\n",
    "    'location':'NY',\n",
    "    'income':None\n",
    "},\n",
    "\n",
    "        {\n",
    "    'name':'obama',\n",
    "    'age':52,\n",
    "    'location':'TX',\n",
    "    'income':629.50\n",
    "},\n",
    "    \n",
    "    \n",
    "    ]\n",
    "    )\n",
    "person"
   ]
  },
  {
   "cell_type": "code",
   "execution_count": 13,
   "metadata": {},
   "outputs": [
    {
     "data": {
      "text/plain": [
       "<matplotlib.axes._subplots.AxesSubplot at 0x7fcb0f5c9c88>"
      ]
     },
     "execution_count": 13,
     "metadata": {},
     "output_type": "execute_result"
    },
    {
     "data": {
      "image/png": "[encoded data removed]",
      "text/plain": [
       "<Figure size 432x288 with 1 Axes>"
      ]
     },
     "metadata": {
      "needs_background": "light"
     },
     "output_type": "display_data"
    }
   ],
   "source": [
    "#ipl_data\n",
    "\n",
    "sns.boxplot(x='name',y='income',data=person)"
   ]
  },
  {
   "cell_type": "code",
   "execution_count": 15,
   "metadata": {},
   "outputs": [
    {
     "data": {
      "text/html": [
       "<div>\n",
       "<style scoped>\n",
       "    .dataframe tbody tr th:only-of-type {\n",
       "        vertical-align: middle;\n",
       "    }\n",
       "\n",
       "    .dataframe tbody tr th {\n",
       "        vertical-align: top;\n",
       "    }\n",
       "\n",
       "    .dataframe thead th {\n",
       "        text-align: right;\n",
       "    }\n",
       "</style>\n",
       "<table border=\"1\" class=\"dataframe\">\n",
       "  <thead>\n",
       "    <tr style=\"text-align: right;\">\n",
       "      <th></th>\n",
       "      <th>age</th>\n",
       "      <th>income</th>\n",
       "    </tr>\n",
       "  </thead>\n",
       "  <tbody>\n",
       "    <tr>\n",
       "      <th>age</th>\n",
       "      <td>1.0</td>\n",
       "      <td>1.0</td>\n",
       "    </tr>\n",
       "    <tr>\n",
       "      <th>income</th>\n",
       "      <td>1.0</td>\n",
       "      <td>1.0</td>\n",
       "    </tr>\n",
       "  </tbody>\n",
       "</table>\n",
       "</div>"
      ],
      "text/plain": [
       "        age  income\n",
       "age     1.0     1.0\n",
       "income  1.0     1.0"
      ]
     },
     "execution_count": 15,
     "metadata": {},
     "output_type": "execute_result"
    }
   ],
   "source": [
    "person.corr()\n",
    "\n",
    "# -1 and 1 "
   ]
  }
 ],
 "metadata": {
  "kernelspec": {
   "display_name": "Python 3",
   "language": "python",
   "name": "python3"
  },
  "language_info": {
   "codemirror_mode": {
    "name": "ipython",
    "version": 3
   },
   "file_extension": ".py",
   "mimetype": "text/x-python",
   "name": "python",
   "nbconvert_exporter": "python",
   "pygments_lexer": "ipython3",
   "version": "3.7.3"
  }
 },
 "nbformat": 4,
 "nbformat_minor": 2
}
