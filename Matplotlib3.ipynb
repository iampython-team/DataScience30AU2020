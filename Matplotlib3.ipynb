{
 "cells": [
  {
   "cell_type": "code",
   "execution_count": 1,
   "metadata": {},
   "outputs": [],
   "source": [
    "from matplotlib import pyplot as plt\n",
    "import numpy as np"
   ]
  },
  {
   "cell_type": "markdown",
   "metadata": {},
   "source": [
    "# Histogram \n",
    "\n",
    "4 / Cars ecommerce website \n",
    "\n",
    "Raja  ---------------- Audi \n",
    "Mahendra --------- Audi \n",
    "Ankit -- Tesla \n",
    "Ram   - Toyota \n",
    "\n",
    "Audi - 3  \n",
    "tesla -2 \n",
    "toyata -3 \n",
    "\n",
    "\n"
   ]
  },
  {
   "cell_type": "code",
   "execution_count": 29,
   "metadata": {},
   "outputs": [
    {
     "data": {
      "image/png": "[encoded data removed]",
      "text/plain": [
       "<Figure size 432x288 with 1 Axes>"
      ]
     },
     "metadata": {
      "needs_background": "light"
     },
     "output_type": "display_data"
    },
    {
     "data": {
      "text/plain": [
       "array([ 3, 12, 23, 45, 67, 98,  3, 12])"
      ]
     },
     "execution_count": 29,
     "metadata": {},
     "output_type": "execute_result"
    }
   ],
   "source": [
    "# multibrand - cars - \n",
    "fig,ax=plt.subplots(1,1)\n",
    "\n",
    "# cars=['Tesla','Audi','Toyota','KIA']\n",
    "# customers=[2,3,3,5]\n",
    "\n",
    "income=np.array([3,12,23,45,67,98,3,12])\n",
    "bins=[10,20,30,40,50]\n",
    "\n",
    "\n",
    "\n",
    "ax.hist(income,bins,histtype='barstacked')\n",
    "\n",
    "plt.show()\n",
    "income"
   ]
  },
  {
   "cell_type": "code",
   "execution_count": 30,
   "metadata": {},
   "outputs": [
    {
     "data": {
      "image/png": "[encoded data removed]",
      "text/plain": [
       "<Figure size 432x288 with 1 Axes>"
      ]
     },
     "metadata": {
      "needs_background": "light"
     },
     "output_type": "display_data"
    },
    {
     "data": {
      "text/plain": [
       "array([ 3, 12, 23, 45, 67, 98,  3, 12])"
      ]
     },
     "execution_count": 30,
     "metadata": {},
     "output_type": "execute_result"
    }
   ],
   "source": [
    "# multibrand - cars - \n",
    "fig,ax=plt.subplots(1,1)\n",
    "\n",
    "# cars=['Tesla','Audi','Toyota','KIA']\n",
    "# customers=[2,3,3,5]\n",
    "\n",
    "income=np.array([3,12,23,45,67,98,3,12])\n",
    "bins=[10,20,30,40,50]\n",
    "\n",
    "\n",
    "\n",
    "ax.hist(income,bins,)\n",
    "\n",
    "plt.show()\n",
    "income"
   ]
  },
  {
   "cell_type": "code",
   "execution_count": 45,
   "metadata": {},
   "outputs": [
    {
     "data": {
      "text/plain": [
       "<matplotlib.colorbar.Colorbar at 0x7fad0c8a97b8>"
      ]
     },
     "execution_count": 45,
     "metadata": {},
     "output_type": "execute_result"
    },
    {
     "data": {
      "image/png": "[encoded data removed]",
      "text/plain": [
       "<Figure size 432x288 with 2 Axes>"
      ]
     },
     "metadata": {
      "needs_background": "light"
     },
     "output_type": "display_data"
    }
   ],
   "source": [
    "# contour plots \n",
    "\n",
    "xdata=np.linspace(-3,3,100)\n",
    "ydata=np.linspace(-3,3,100)\n",
    "x,y= np.meshgrid(xdata,ydata)\n",
    "z=np.sqrt(x**2 + y**2)\n",
    "\n",
    "# x=np.array([1,2,3,4,5])\n",
    "# y=np.array([4,3,2,8,9])\n",
    "# x1,y1= np.meshgrid(x,y)\n",
    "# z=np.sqrt(x1**2 + y1**2)\n",
    "\n",
    "\n",
    "\n",
    "fig,ax=plt.subplots(1,1)\n",
    "#tuple = () or (fig,ax) or fig,ax\n",
    "cd=ax.contourf(x,y,z)\n",
    "\n",
    "\n",
    "fig.colorbar(cd)\n"
   ]
  }
 ],
 "metadata": {
  "kernelspec": {
   "display_name": "Python 3",
   "language": "python",
   "name": "python3"
  },
  "language_info": {
   "codemirror_mode": {
    "name": "ipython",
    "version": 3
   },
   "file_extension": ".py",
   "mimetype": "text/x-python",
   "name": "python",
   "nbconvert_exporter": "python",
   "pygments_lexer": "ipython3",
   "version": "3.7.3"
  }
 },
 "nbformat": 4,
 "nbformat_minor": 2
}
