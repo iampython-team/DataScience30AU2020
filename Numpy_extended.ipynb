{
 "cells": [
  {
   "cell_type": "code",
   "execution_count": null,
   "metadata": {},
   "outputs": [],
   "source": [
    "# # scalar vector matrix tensor \n",
    "\n",
    "# [1]\n",
    "\n",
    "# [1,2,3]---> direction \n",
    "# [1]\n",
    "# [2]\n",
    "# [3]\n",
    "\n",
    "\n",
    "# rows * cols \n",
    "# [1 2]\n",
    "# [3 4]\n",
    "\n",
    "\n",
    "# # deep learning - tensorflow - google - AI / DS "
   ]
  },
  {
   "cell_type": "code",
   "execution_count": null,
   "metadata": {},
   "outputs": [],
   "source": [
    "# 2014 - toy - 200 \n",
    "# 2015 - toy -300 \n",
    "\n",
    "# 202 - toy - ? \n",
    "\n",
    "# numpy scipy pandas and matplotlib "
   ]
  },
  {
   "cell_type": "code",
   "execution_count": 6,
   "metadata": {},
   "outputs": [
    {
     "data": {
      "text/plain": [
       "5800"
      ]
     },
     "execution_count": 6,
     "metadata": {},
     "output_type": "execute_result"
    }
   ],
   "source": [
    "import numpy as np \n",
    "price=np.array([1500,1800,1200,1300])\n",
    "price\n",
    "price.max()\n",
    "price.mean()\n",
    "price.min()\n",
    "price.sum()"
   ]
  },
  {
   "cell_type": "code",
   "execution_count": 12,
   "metadata": {},
   "outputs": [
    {
     "data": {
      "text/plain": [
       "array([ 1,  2,  4,  6,  8, 10])"
      ]
     },
     "execution_count": 12,
     "metadata": {},
     "output_type": "execute_result"
    }
   ],
   "source": [
    "np.linspace(1,10,6,dtype=int)"
   ]
  },
  {
   "cell_type": "code",
   "execution_count": 20,
   "metadata": {},
   "outputs": [
    {
     "data": {
      "text/plain": [
       "array([[5],\n",
       "       [6],\n",
       "       [7],\n",
       "       [8],\n",
       "       [0]])"
      ]
     },
     "execution_count": 20,
     "metadata": {},
     "output_type": "execute_result"
    }
   ],
   "source": [
    "sample=np.array(\n",
    "(5,6,7,8,0)  # 1 row and 5 cols \n",
    ")\n",
    "\n",
    "sample.shape\n",
    "\n",
    "s1=sample.reshape(5,1)\n",
    "s1"
   ]
  },
  {
   "cell_type": "code",
   "execution_count": 29,
   "metadata": {},
   "outputs": [
    {
     "data": {
      "text/plain": [
       "array({'name': 'John', 'age': 45, 'location': 'NY'}, dtype=object)"
      ]
     },
     "execution_count": 29,
     "metadata": {},
     "output_type": "execute_result"
    }
   ],
   "source": [
    "# assignment 1 \n",
    "\n",
    "person=np.array(\n",
    "{\n",
    "    'name':'John',\n",
    "    'age':45,\n",
    "    'location':'NY'\n",
    "})\n",
    "\n",
    "person"
   ]
  },
  {
   "cell_type": "code",
   "execution_count": 25,
   "metadata": {},
   "outputs": [
    {
     "data": {
      "text/plain": [
       "60"
      ]
     },
     "execution_count": 25,
     "metadata": {},
     "output_type": "execute_result"
    }
   ],
   "source": [
    "population=np.array(\n",
    "[20,40,60,80,100,120,150]  # 0 , n-1 n- length of list\n",
    ")\n",
    "population[2]"
   ]
  },
  {
   "cell_type": "code",
   "execution_count": 37,
   "metadata": {},
   "outputs": [
    {
     "data": {
      "text/plain": [
       "8.981462390204987"
      ]
     },
     "execution_count": 37,
     "metadata": {},
     "output_type": "execute_result"
    }
   ],
   "source": [
    "rc=np.array(\n",
    "([1,2,30],\n",
    "    \n",
    "[10,15,14],\n",
    "    \n",
    "[2,3,4]\n",
    ")\n",
    "    \n",
    ")\n",
    "rc.max(axis=1)\n",
    "\n",
    "rc.max(axis=0)\n",
    "\n",
    "rc.sum(axis=0)\n",
    "\n",
    "np.sqrt(rc)\n",
    "np.std(rc)"
   ]
  },
  {
   "cell_type": "code",
   "execution_count": 43,
   "metadata": {},
   "outputs": [
    {
     "data": {
      "text/plain": [
       "array([[1, 1, 1, 1, 1],\n",
       "       [1, 1, 1, 1, 1],\n",
       "       [1, 1, 1, 1, 1],\n",
       "       [1, 1, 1, 1, 1],\n",
       "       [1, 1, 1, 1, 1]])"
      ]
     },
     "execution_count": 43,
     "metadata": {},
     "output_type": "execute_result"
    }
   ],
   "source": [
    "np.ones((5,5),dtype=int)"
   ]
  },
  {
   "cell_type": "code",
   "execution_count": 45,
   "metadata": {},
   "outputs": [
    {
     "data": {
      "text/plain": [
       "array([[0, 0, 0, 0, 0],\n",
       "       [0, 0, 0, 0, 0],\n",
       "       [0, 0, 0, 0, 0],\n",
       "       [0, 0, 0, 0, 0],\n",
       "       [0, 0, 0, 0, 0]])"
      ]
     },
     "execution_count": 45,
     "metadata": {},
     "output_type": "execute_result"
    }
   ],
   "source": [
    "np.zeros((5,5),dtype=int)"
   ]
  },
  {
   "cell_type": "code",
   "execution_count": 47,
   "metadata": {},
   "outputs": [],
   "source": [
    "#np.twos((5,5))"
   ]
  },
  {
   "cell_type": "code",
   "execution_count": 51,
   "metadata": {},
   "outputs": [
    {
     "data": {
      "text/plain": [
       "array([[-1.09356471,  0.09277125],\n",
       "       [ 1.17516699, -0.18509168],\n",
       "       [-0.61472737, -0.24936354],\n",
       "       [ 0.68936268,  1.08075797],\n",
       "       [-0.02407016,  1.50501235]])"
      ]
     },
     "execution_count": 51,
     "metadata": {},
     "output_type": "execute_result"
    }
   ],
   "source": [
    "np.random.randn(5,2) # rand - to generate postive random values"
   ]
  },
  {
   "cell_type": "code",
   "execution_count": 56,
   "metadata": {},
   "outputs": [
    {
     "data": {
      "text/plain": [
       "array([5, 1, 7, 0, 2, 7, 7, 3, 1, 0, 4, 3, 3, 3, 3, 2, 7, 4, 2, 2, 2, 6,\n",
       "       3, 5, 1, 6, 5, 5, 0, 3, 5, 3, 0, 1, 0, 3, 1, 3, 3, 3, 6, 3, 1, 1,\n",
       "       1, 1, 2, 2, 2, 3, 7, 7, 7, 1, 3, 1, 7, 3, 4, 5, 7, 0, 4, 5, 5, 5,\n",
       "       0, 5, 3, 0, 0, 1, 6, 5, 6, 4, 5, 7, 5, 1, 5, 4, 0, 2, 0, 3, 6, 1,\n",
       "       4, 3, 0, 1, 3, 7, 2, 5, 1, 5, 6, 3])"
      ]
     },
     "execution_count": 56,
     "metadata": {},
     "output_type": "execute_result"
    }
   ],
   "source": [
    "np.random.randint(8,size=100)"
   ]
  },
  {
   "cell_type": "code",
   "execution_count": 58,
   "metadata": {},
   "outputs": [
    {
     "name": "stderr",
     "output_type": "stream",
     "text": [
      "/Users/SRIRAMAPADMAPRABHA/anaconda3/lib/python3.7/site-packages/ipykernel_launcher.py:1: DeprecationWarning: This function is deprecated. Please call randint(1, 3 + 1) instead\n",
      "  \"\"\"Entry point for launching an IPython kernel.\n"
     ]
    },
    {
     "data": {
      "text/plain": [
       "3"
      ]
     },
     "execution_count": 58,
     "metadata": {},
     "output_type": "execute_result"
    }
   ],
   "source": [
    "np.random.random_integers(3)"
   ]
  },
  {
   "cell_type": "code",
   "execution_count": 62,
   "metadata": {},
   "outputs": [
    {
     "name": "stdout",
     "output_type": "stream",
     "text": [
      "0.12978123938757147\n"
     ]
    },
    {
     "data": {
      "text/plain": [
       "0"
      ]
     },
     "execution_count": 62,
     "metadata": {},
     "output_type": "execute_result"
    }
   ],
   "source": [
    "print(np.random.random_sample())\n",
    "int(np.random.random_sample())"
   ]
  }
 ],
 "metadata": {
  "kernelspec": {
   "display_name": "Python 3",
   "language": "python",
   "name": "python3"
  },
  "language_info": {
   "codemirror_mode": {
    "name": "ipython",
    "version": 3
   },
   "file_extension": ".py",
   "mimetype": "text/x-python",
   "name": "python",
   "nbconvert_exporter": "python",
   "pygments_lexer": "ipython3",
   "version": "3.7.3"
  }
 },
 "nbformat": 4,
 "nbformat_minor": 2
}
