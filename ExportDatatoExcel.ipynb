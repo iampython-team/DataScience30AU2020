{
 "cells": [
  {
   "cell_type": "code",
   "execution_count": 2,
   "metadata": {},
   "outputs": [],
   "source": [
    "import pandas as pd"
   ]
  },
  {
   "cell_type": "code",
   "execution_count": 14,
   "metadata": {},
   "outputs": [],
   "source": [
    "# Automobile \n",
    "customer=pd.DataFrame(\n",
    "[\n",
    "{\n",
    "    'name': 'John',\n",
    "    'age':52,\n",
    "    'model':'high-end',\n",
    "    'year':2019,\n",
    "    'make':'KIA'\n",
    "    \n",
    "},\n",
    "    {\n",
    "    'name': 'Robert',\n",
    "    'age':49,\n",
    "    'model':'high-end',\n",
    "    'year':2020,\n",
    "    'make':'Toyota'\n",
    "    \n",
    "},\n",
    "    \n",
    "]\n",
    "\n",
    ")"
   ]
  },
  {
   "cell_type": "code",
   "execution_count": 15,
   "metadata": {},
   "outputs": [
    {
     "name": "stdout",
     "output_type": "stream",
     "text": [
      "done!!!\n"
     ]
    }
   ],
   "source": [
    "writer=pd.ExcelWriter('Automobile_Customer1.xlsx')\n",
    "\n",
    "customer.to_excel(writer)\n",
    "\n",
    "writer.save()\n",
    "\n",
    "print(\"done!!!\")"
   ]
  }
 ],
 "metadata": {
  "kernelspec": {
   "display_name": "Python 3",
   "language": "python",
   "name": "python3"
  },
  "language_info": {
   "codemirror_mode": {
    "name": "ipython",
    "version": 3
   },
   "file_extension": ".py",
   "mimetype": "text/x-python",
   "name": "python",
   "nbconvert_exporter": "python",
   "pygments_lexer": "ipython3",
   "version": "3.7.3"
  }
 },
 "nbformat": 4,
 "nbformat_minor": 2
}
